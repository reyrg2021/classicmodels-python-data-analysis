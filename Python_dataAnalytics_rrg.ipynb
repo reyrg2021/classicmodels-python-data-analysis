{
 "cells": [
  {
   "cell_type": "markdown",
   "id": "747d15c6",
   "metadata": {},
   "source": [
    "<h1 style='color:blue'> PRUEBA FINAL DE PYTHON </h1>"
   ]
  },
  {
   "cell_type": "code",
   "execution_count": 1,
   "id": "3da73149",
   "metadata": {},
   "outputs": [
    {
     "name": "stdout",
     "output_type": "stream",
     "text": [
      "Base de datos g108_classicmodels ya existe. Usando existente.\n",
      "Limpiando tablas existentes...\n",
      "Tabla orderdetails eliminada (si existía)\n",
      "Tabla orders eliminada (si existía)\n",
      "Tabla customers eliminada (si existía)\n",
      "Tabla employees eliminada (si existía)\n",
      "Tabla products eliminada (si existía)\n",
      "Tabla top_10_clientes_2005 eliminada (si existía)\n",
      "Tabla top_10_productos_2005 eliminada (si existía)\n",
      "Tabla offices eliminada (si existía)\n",
      "Tabla payments eliminada (si existía)\n",
      "Tabla productlines eliminada (si existía)\n",
      "Importando archivo SQL...\n",
      "Archivo classicmodels_insert.sql ejecutado correctamente\n"
     ]
    }
   ],
   "source": [
    "# Esto recarga automáticamente los módulos cuando se cambien ya que Jupyter cachea los módulos importados. \n",
    "# Si se modifica el archivo después de importarlo, se necesita recargar y para no reiniciar el kernel del jupyter\n",
    "\n",
    "# %load_ext autoreload\n",
    "# %autoreload 2\n",
    "\n",
    "#param_db = {\n",
    "#    'HOST': 'localhost',\n",
    "#    'USERNAME': 'postgres',\n",
    "#    'PASSWORD': 12345,\n",
    "#    'DATABASE' : 'g108_classicmodels',\n",
    "#    'PORT': 5432\n",
    "#}\n",
    "\n",
    "from funciones.funcionesPrueba import create_DB,acond_DB\n",
    "#CREO LA BD DE LA PRUEBA\n",
    "create_DB()\n",
    "#ACONDICIONO LA BD DE LA PRUEBA\n",
    "acond_DB()\n"
   ]
  },
  {
   "cell_type": "markdown",
   "id": "afb94224",
   "metadata": {},
   "source": [
    "<h1 style='color:green' > Descripción </h1>"
   ]
  },
  {
   "cell_type": "markdown",
   "id": "f9ca34a2",
   "metadata": {},
   "source": [
    "El área comercial de una empresa pide realizar un cierre de año de las ventas, tanto para revisar si las metas fueron cumplidas, como para poder planiﬁcar el siguiente año. Para ello, considerarán los datos del dataset classicmodels.sql para responder algunas preguntas, realizando las siguientes tareas."
   ]
  },
  {
   "cell_type": "markdown",
   "id": "eead3abc",
   "metadata": {},
   "source": [
    "Ejercicio 1. \n",
    "Genera una función llamada leer_tabla(tabla, engine)y utilízala para leer tablas completas desde la base de datos en dataframes independientes. Utilizando esta función, importa las siguientes tablas:\n",
    "- order\n",
    "- orderdetails \n",
    "- customers\n",
    "- products\n",
    "- employees"
   ]
  },
  {
   "cell_type": "code",
   "execution_count": 3,
   "id": "f225df33",
   "metadata": {},
   "outputs": [
    {
     "data": {
      "text/plain": [
       "(326, 7)"
      ]
     },
     "execution_count": 3,
     "metadata": {},
     "output_type": "execute_result"
    }
   ],
   "source": [
    "\n",
    "from funciones.funcionesPrueba import leer_tabla\n",
    "import pandas as pd\n",
    "\n",
    "# engine = create_engine(f\"postgresql://{param_db['USERNAME']}:{param_db['PASSWORD']}@{param_db['HOST']}/{param_db['DATABASE']}\")\n",
    "# revision = inspect(engine)\n",
    "# tablas = revision.get_table_names()\n",
    "# tablas\n",
    "# tablas_varias = {}\n",
    "#for t in tablas:\n",
    "#    query = f\"select * from {t};\"\n",
    "#    tablas_varias[t]= pd.read_sql(query, engine)\n",
    "#tablas_varias\n",
    "\n",
    "#def leer_tabla(tabla,eng):\n",
    "#    query = f\"select * from {tabla};\"\n",
    "#    df = pd.read_sql(query, eng)\n",
    "#    return df\n",
    "tablas = ['orders','orderdetails','customers','products','employees']\n",
    "orders_df = leer_tabla (tablas[0])\n",
    "orderdetails_df = leer_tabla (tablas[1])\n",
    "customers_df = leer_tabla (tablas[2])\n",
    "products_df = leer_tabla (tablas[3])\n",
    "employees_df = leer_tabla (tablas[4])\n",
    "orders_df.shape\n",
    "# orders_df['status'].unique()"
   ]
  },
  {
   "cell_type": "markdown",
   "id": "7f14f078",
   "metadata": {},
   "source": [
    "Ejercicio 2.\n",
    "Realiza el cruce entre los DataFrames, asegurándote de utilizar correctamente el parámetro validate para asegurar la integridad referencial."
   ]
  },
  {
   "cell_type": "code",
   "execution_count": 5,
   "id": "33a3da35",
   "metadata": {},
   "outputs": [],
   "source": [
    "df_base = (orders_df\n",
    "    .merge(orderdetails_df, on=\"orderNumber\", how=\"left\",validate=\"one_to_many\")\n",
    "    .merge(customers_df, on=\"customerNumber\", how=\"left\",validate=\"many_to_one\")\n",
    "    .merge(products_df, on=\"productCode\", how=\"left\",validate=\"many_to_one\")\n",
    "    .merge(employees_df, left_on='salesRepEmployeeNumber',right_on='employeeNumber', how=\"left\",validate=\"many_to_one\"))"
   ]
  },
  {
   "cell_type": "markdown",
   "id": "b0eb6048",
   "metadata": {},
   "source": [
    "Ejercicio 3. Agrega las siguientes columnas, considerando su nombre y la fórmula asociada\n",
    "- venta: quantityOrdered*priceEach\n",
    "- costo: quantityOrdered*buyPrice\n",
    "- ganancia: considerando las columnas anteriores"
   ]
  },
  {
   "cell_type": "code",
   "execution_count": 7,
   "id": "96e08599",
   "metadata": {},
   "outputs": [],
   "source": [
    "df_base['venta'] = df_base['quantityOrdered']*df_base['priceEach']\n",
    "df_base['costo'] = df_base['quantityOrdered']*df_base['buyPrice']\n",
    "df_base['ganancia']=df_base['venta']-df_base['costo']"
   ]
  },
  {
   "cell_type": "markdown",
   "id": "14e756fa",
   "metadata": {},
   "source": [
    "Ejercicio 4. ¿Cuál fue el total de ventas por línea de productos? Incluye una ﬁla de totales."
   ]
  },
  {
   "cell_type": "code",
   "execution_count": 11,
   "id": "59aa1d40",
   "metadata": {},
   "outputs": [
    {
     "data": {
      "text/html": [
       "<div>\n",
       "<style scoped>\n",
       "    .dataframe tbody tr th:only-of-type {\n",
       "        vertical-align: middle;\n",
       "    }\n",
       "\n",
       "    .dataframe tbody tr th {\n",
       "        vertical-align: top;\n",
       "    }\n",
       "\n",
       "    .dataframe thead th {\n",
       "        text-align: right;\n",
       "    }\n",
       "</style>\n",
       "<table border=\"1\" class=\"dataframe\">\n",
       "  <thead>\n",
       "    <tr style=\"text-align: right;\">\n",
       "      <th></th>\n",
       "      <th>quantityOrdered</th>\n",
       "    </tr>\n",
       "    <tr>\n",
       "      <th>productLine</th>\n",
       "      <th></th>\n",
       "    </tr>\n",
       "  </thead>\n",
       "  <tbody>\n",
       "    <tr>\n",
       "      <th>Classic Cars</th>\n",
       "      <td>35582</td>\n",
       "    </tr>\n",
       "    <tr>\n",
       "      <th>Motorcycles</th>\n",
       "      <td>12778</td>\n",
       "    </tr>\n",
       "    <tr>\n",
       "      <th>Planes</th>\n",
       "      <td>11872</td>\n",
       "    </tr>\n",
       "    <tr>\n",
       "      <th>Ships</th>\n",
       "      <td>8532</td>\n",
       "    </tr>\n",
       "    <tr>\n",
       "      <th>Trains</th>\n",
       "      <td>2818</td>\n",
       "    </tr>\n",
       "    <tr>\n",
       "      <th>Trucks and Buses</th>\n",
       "      <td>11001</td>\n",
       "    </tr>\n",
       "    <tr>\n",
       "      <th>Vintage Cars</th>\n",
       "      <td>22933</td>\n",
       "    </tr>\n",
       "    <tr>\n",
       "      <th>Total</th>\n",
       "      <td>105516</td>\n",
       "    </tr>\n",
       "  </tbody>\n",
       "</table>\n",
       "</div>"
      ],
      "text/plain": [
       "                  quantityOrdered\n",
       "productLine                      \n",
       "Classic Cars                35582\n",
       "Motorcycles                 12778\n",
       "Planes                      11872\n",
       "Ships                        8532\n",
       "Trains                       2818\n",
       "Trucks and Buses            11001\n",
       "Vintage Cars                22933\n",
       "Total                      105516"
      ]
     },
     "execution_count": 11,
     "metadata": {},
     "output_type": "execute_result"
    }
   ],
   "source": [
    "df_base.head(20)\n",
    "df_base_pivot_table = pd.pivot_table(data = df_base\n",
    "                                    , index=  \"productLine\"\n",
    "                                    , values = \"quantityOrdered\"\n",
    "                                    , aggfunc =\"sum\"\n",
    "                                    , margins=True\n",
    "                                    , margins_name='Total')\n",
    "df_base_pivot_table"
   ]
  },
  {
   "cell_type": "markdown",
   "id": "5945b783",
   "metadata": {},
   "source": [
    "Ejercicio 5. ¿Cuántos clientes distintos hicieron compras?"
   ]
  },
  {
   "cell_type": "code",
   "execution_count": 13,
   "id": "c420d6a6",
   "metadata": {},
   "outputs": [
    {
     "name": "stdout",
     "output_type": "stream",
     "text": [
      "Hicieron compras 98 clientes distintos\n"
     ]
    }
   ],
   "source": [
    "#df_base.head(5)\n",
    "\n",
    "# df_base['status'].unique()\n",
    "# df_base['customerNumber'].unique().size\n",
    "# clientes_disntintos_compras = df_base['customerNumber'][df_base['status']=='Resolved'].unique()\n",
    "print(f\"Hicieron compras {df_base['customerNumber'].unique().size} clientes distintos\")"
   ]
  },
  {
   "cell_type": "markdown",
   "id": "4e65061f",
   "metadata": {},
   "source": [
    "Ejercicio 6.¿Existen clientes que aún no han hecho ninguna compra? ¿Cuántos son?"
   ]
  },
  {
   "cell_type": "code",
   "execution_count": 15,
   "id": "29945a3c",
   "metadata": {},
   "outputs": [
    {
     "name": "stdout",
     "output_type": "stream",
     "text": [
      "Existen clientes que no han hecho ninguna compra y son 24 clientes\n"
     ]
    }
   ],
   "source": [
    "clientes_totales = customers_df['customerNumber'].unique().size\n",
    "clientes_compras = df_base['customerNumber'].unique().size\n",
    "print (f\"Existen clientes que no han hecho ninguna compra y son {clientes_totales - clientes_compras} clientes\")"
   ]
  },
  {
   "cell_type": "markdown",
   "id": "40ef2336",
   "metadata": {},
   "source": [
    "Ejercicio 7.  Se solicita la creación de dos reportes, que respondan las preguntas dadas.\n",
    "\n"
   ]
  },
  {
   "cell_type": "code",
   "execution_count": 17,
   "id": "77c60534",
   "metadata": {},
   "outputs": [
    {
     "name": "stdout",
     "output_type": "stream",
     "text": [
      " Total de clientes que han realizado compras: 98 clientes\n",
      " Total de ventas generadas: $9,604,190.61\n",
      " Total de clientes registrados: 122 clientes\n",
      " Clientes que han comprado: 98 clientes\n",
      " Clientes sin compras: 24 clientes\n"
     ]
    }
   ],
   "source": [
    "# REPORTE 1: CLIENTES QUE HAN REALIZADO COMPRAS (PREGUNTA 5)\n",
    "clientes_con_compras = df_base.groupby(['customerNumber', 'customerName']).agg({\n",
    "    'orderNumber': 'nunique',  \n",
    "    'venta': 'sum',           \n",
    "    'ganancia': 'sum'        \n",
    "}).reset_index()\n",
    "\n",
    "clientes_con_compras.columns = ['customerNumber', 'customerName', 'total_ordenes', 'total_ventas', 'total_ganancia']\n",
    "clientes_con_compras['total_ventas'] = clientes_con_compras['total_ventas'].round(2)\n",
    "clientes_con_compras['total_ganancia'] = clientes_con_compras['total_ganancia'].round(2)\n",
    "clientes_con_compras = clientes_con_compras.sort_values('total_ventas', ascending=False)\n",
    "\n",
    "print(f\" Total de clientes que han realizado compras: {len(clientes_con_compras)} clientes\")\n",
    "print(f\" Total de ventas generadas: ${clientes_con_compras['total_ventas'].sum():,.2f}\")\n",
    "\n",
    "\n",
    "# =========================================================================================================================================\n",
    "# REPORTE 2: CLIENTES SIN COMPRAS (PREGUNTA 6)\n",
    "todos_los_clientes = customers_df[['customerNumber', 'customerName', 'city', 'country']].copy()\n",
    "\n",
    "clientes_que_compraron = df_base['customerNumber'].unique()\n",
    "\n",
    "clientes_sin_compras = todos_los_clientes[\n",
    "    ~todos_los_clientes['customerNumber'].isin(clientes_que_compraron)\n",
    "].copy()\n",
    "\n",
    "clientes_sin_compras['estado'] = 'Sin compras'\n",
    "clientes_sin_compras['total_ventas'] = 0.0\n",
    "clientes_sin_compras['total_ordenes'] = 0\n",
    "\n",
    "clientes_sin_compras = clientes_sin_compras[['customerNumber', 'customerName', 'city', 'country', 'estado', 'total_ordenes', 'total_ventas']]\n",
    "\n",
    "print(f\" Total de clientes registrados: {len(todos_los_clientes)} clientes\")\n",
    "print(f\" Clientes que han comprado: {len(clientes_que_compraron)} clientes\")\n",
    "print(f\" Clientes sin compras: {len(clientes_sin_compras)} clientes\")\n"
   ]
  },
  {
   "cell_type": "markdown",
   "id": "4e82a3e3",
   "metadata": {},
   "source": [
    "- ¿Cuáles fueron los 10 clientes que reportan mayores ventas brutas en dinero durante el año 2005? Genera un DataFrame y guárdalo en una tabla de Postgre llamada top_10_clientes_2005, en la que se especiﬁque el nombre del cliente y su correspondiente venta, costo y ganancia."
   ]
  },
  {
   "cell_type": "code",
   "execution_count": 19,
   "id": "5b00fa43",
   "metadata": {},
   "outputs": [
    {
     "name": "stdout",
     "output_type": "stream",
     "text": [
      "Empezando a escribir la tabla top_10_clientes_2005\n",
      "Terminando de escribir la tabla top_10_clientes_2005\n"
     ]
    }
   ],
   "source": [
    "from funciones.funcionesPrueba import escribir_BD,filt_DF_fechas,generar_reporte_pivotado\n",
    "# df_base.head(20)\n",
    "\n",
    "# Filtrar por año\n",
    "tabla_2005 = filt_DF_fechas(df_base, 'orderDate', 'año', año = 2005)\n",
    "\n",
    "tabla_2005_pivot_table_clientes= generar_reporte_pivotado(\n",
    "    df=tabla_2005,\n",
    "    filas='customerName',\n",
    "    valores=['venta', 'costo', 'ganancia'],\n",
    "    funcion_agrupadora='sum'\n",
    ")\n",
    "#tabla_2005_pivot_table_clientes = pd.pivot_table(\n",
    "#    data=tabla_2005,\n",
    "#    index='customerName', \n",
    "#    values=['venta', 'costo', 'ganancia'],\n",
    "#    aggfunc='sum'\n",
    "#)\n",
    "tabla_final_clientes = tabla_2005_pivot_table_clientes.sort_values(by=['venta'],ascending=False).iloc[0:10,:]\n",
    "escribir_BD(tabla_final_clientes,'top_10_clientes_2005')\n",
    "# df_base.head(5)"
   ]
  },
  {
   "cell_type": "markdown",
   "id": "388441e5",
   "metadata": {},
   "source": [
    "- ¿Cuál fue el top 10 de artículos más vendidos durante el año 2005? Genera un DataFrame y guárdalo en una tabla de Postgre llamada top_10_productos_2005, en la que se especiﬁque el nombre del producto y su correspondiente venta, costo y ganancia."
   ]
  },
  {
   "cell_type": "code",
   "execution_count": 21,
   "id": "bfde4f00",
   "metadata": {},
   "outputs": [
    {
     "name": "stdout",
     "output_type": "stream",
     "text": [
      "Empezando a escribir la tabla top_10_productos_2005\n",
      "Terminando de escribir la tabla top_10_productos_2005\n"
     ]
    }
   ],
   "source": [
    "#df_base[\"orderDate\"] = pd.to_datetime(df_base[\"orderDate\"], format=\"%Y-%m-%d\")\n",
    "#df_base[\"requiredDate\"] = pd.to_datetime(df_base[\"requiredDate\"], format=\"%Y-%m-%d\")\n",
    "#df_base[\"shippedDate\"] = pd.to_datetime(df_base[\"shippedDate\"], format=\"%Y-%m-%d\")\n",
    "# tabla_2005 = df_base[df_base['requiredDate'].dt.year == 2005]\n",
    "# productLine\n",
    "tabla_2005 = filt_DF_fechas(df_base, 'orderDate', 'año', año = 2005)\n",
    "tabla_2005_pivot_table_productos = generar_reporte_pivotado(\n",
    "    df=tabla_2005,\n",
    "    filas='productName',\n",
    "    valores=['quantityOrdered','venta','costo','ganancia'],\n",
    "    funcion_agrupadora='sum'\n",
    ")\n",
    "tabla_final_productos = tabla_2005_pivot_table_productos.sort_values(by=['quantityOrdered'],ascending=False).iloc[0:10,:]\n",
    "escribir_BD(tabla_final_productos,'top_10_productos_2005')"
   ]
  }
 ],
 "metadata": {
  "kernelspec": {
   "display_name": "Python [conda env:python_dataAnalytics]",
   "language": "python",
   "name": "conda-env-python_dataAnalytics-py"
  },
  "language_info": {
   "codemirror_mode": {
    "name": "ipython",
    "version": 3
   },
   "file_extension": ".py",
   "mimetype": "text/x-python",
   "name": "python",
   "nbconvert_exporter": "python",
   "pygments_lexer": "ipython3",
   "version": "3.9.23"
  }
 },
 "nbformat": 4,
 "nbformat_minor": 5
}
